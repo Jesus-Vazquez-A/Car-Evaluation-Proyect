{
 "cells": [
  {
   "cell_type": "markdown",
   "id": "1d3cc512",
   "metadata": {},
   "source": [
    "### **Import Libraries**"
   ]
  },
  {
   "cell_type": "code",
   "execution_count": 1,
   "id": "1b0643be",
   "metadata": {},
   "outputs": [],
   "source": [
    "import pandas as pd  #data manipulation\n",
    "import numpy as np #linear algebra\n",
    "import seaborn as sns # plots\n",
    "import matplotlib.pyplot as plt # plots\n",
    "import warnings #ignore warnings messages"
   ]
  },
  {
   "cell_type": "code",
   "execution_count": 2,
   "id": "1589c664",
   "metadata": {},
   "outputs": [],
   "source": [
    "warnings.filterwarnings(\"ignore\")"
   ]
  },
  {
   "cell_type": "markdown",
   "id": "0bce617e",
   "metadata": {},
   "source": [
    "### **Load Data**"
   ]
  },
  {
   "cell_type": "code",
   "execution_count": 3,
   "id": "df3d0ac5",
   "metadata": {},
   "outputs": [],
   "source": [
    "df=pd.read_csv(\"Car_Evaluation_Balanced.csv\")"
   ]
  },
  {
   "cell_type": "markdown",
   "id": "c8251724",
   "metadata": {},
   "source": [
    "#### **Split Inputs and Outputs**"
   ]
  },
  {
   "cell_type": "code",
   "execution_count": 4,
   "id": "bd1a9fec",
   "metadata": {},
   "outputs": [],
   "source": [
    "def load_inputs_outputs():\n",
    "    \n",
    "    X=np.array(df.drop(labels=[\"class\"],axis=\"columns\"))\n",
    "    y=np.array(df[\"class\"])\n",
    "    \n",
    "    return X,y"
   ]
  },
  {
   "cell_type": "code",
   "execution_count": 5,
   "id": "f7ee21b1",
   "metadata": {},
   "outputs": [],
   "source": [
    "X,y=load_inputs_outputs()"
   ]
  },
  {
   "cell_type": "markdown",
   "id": "1e4aa18f",
   "metadata": {},
   "source": [
    "#### **Split Data**"
   ]
  },
  {
   "cell_type": "code",
   "execution_count": 6,
   "id": "e68b026c",
   "metadata": {},
   "outputs": [],
   "source": [
    "from sklearn.model_selection import train_test_split"
   ]
  },
  {
   "cell_type": "code",
   "execution_count": 7,
   "id": "e8bf9842",
   "metadata": {},
   "outputs": [],
   "source": [
    "X_train,X_test,Y_train,Y_test=train_test_split(X,y,\n",
    "                                               test_size=0.33,\n",
    "                                               random_state=42)"
   ]
  },
  {
   "cell_type": "code",
   "execution_count": 8,
   "id": "63593920",
   "metadata": {},
   "outputs": [
    {
     "data": {
      "text/plain": [
       "(3242, 1598)"
      ]
     },
     "execution_count": 8,
     "metadata": {},
     "output_type": "execute_result"
    }
   ],
   "source": [
    "X_train.shape[0],X_test.shape[0]"
   ]
  },
  {
   "cell_type": "markdown",
   "id": "7eea1832",
   "metadata": {},
   "source": [
    "### **Creation of Models**"
   ]
  },
  {
   "cell_type": "markdown",
   "id": "b8f2704e",
   "metadata": {},
   "source": [
    "#### **Decesion Tree**\n",
    "\n",
    "<img src=\"https://regenerativetoday.com/wp-content/uploads/2022/04/dt.png\">"
   ]
  },
  {
   "cell_type": "markdown",
   "id": "87d12dff",
   "metadata": {},
   "source": [
    "It is an algorithm that works in a very similar way to the human mind. Formulate a series of questions translated into **mathematical** language as **inequalities**.\n",
    "\n",
    "It has the advantage that it is easy to interpret. In addition, it does not require a scale adjustment. Because it uses mathematical inequalities, as I mentioned earlier."
   ]
  },
  {
   "cell_type": "code",
   "execution_count": 9,
   "id": "c224b434",
   "metadata": {},
   "outputs": [],
   "source": [
    "from sklearn.tree import DecisionTreeClassifier"
   ]
  },
  {
   "cell_type": "markdown",
   "id": "08233323",
   "metadata": {},
   "source": [
    "#### **Maximum Depth Selection**"
   ]
  },
  {
   "cell_type": "markdown",
   "id": "be06de51",
   "metadata": {},
   "source": [
    "We will use the performance metric accuracy. Since it is an easy metric to interpret."
   ]
  },
  {
   "cell_type": "code",
   "execution_count": 10,
   "id": "19ec4d41",
   "metadata": {},
   "outputs": [],
   "source": [
    "from sklearn.metrics import accuracy_score"
   ]
  },
  {
   "cell_type": "code",
   "execution_count": 11,
   "id": "a1311b14",
   "metadata": {},
   "outputs": [],
   "source": [
    "def max_depth_ideal():\n",
    "    \n",
    "    max_depth_list = []\n",
    "    acc_train_list = []\n",
    "    acc_test_list=[]\n",
    "    \n",
    "    for max_depth in np.arange(4,20):\n",
    "        \n",
    "        tree=DecisionTreeClassifier(max_depth=max_depth,random_state=42)\n",
    "        tree.fit(X_train,Y_train)\n",
    "        \n",
    "        y_pred_train=tree.predict(X_train)\n",
    "        y_pred_test=tree.predict(X_test)\n",
    "        \n",
    "        acc_train=accuracy_score(y_true=Y_train,y_pred=y_pred_train)\n",
    "        acc_test=accuracy_score(y_true=Y_test,y_pred=y_pred_test)\n",
    "        \n",
    "        acc_train_list.append(acc_train)\n",
    "        acc_test_list.append(acc_test)\n",
    "        max_depth_list.append(max_depth)\n",
    "        \n",
    "        \n",
    "    return max_depth_list,acc_train_list,acc_test_list"
   ]
  },
  {
   "cell_type": "code",
   "execution_count": 12,
   "id": "1619992f",
   "metadata": {},
   "outputs": [],
   "source": [
    "max_depth,acc_train,acc_test=max_depth_ideal()"
   ]
  },
  {
   "cell_type": "code",
   "execution_count": 13,
   "id": "daea0d32",
   "metadata": {},
   "outputs": [],
   "source": [
    "treeEvaluate=pd.DataFrame({\"max_depth\":max_depth,\"acc_train\":acc_train,\"acc_test\":acc_test})"
   ]
  },
  {
   "cell_type": "code",
   "execution_count": 14,
   "id": "4c1af454",
   "metadata": {},
   "outputs": [],
   "source": [
    "sns.set_style(style=\"whitegrid\")"
   ]
  },
  {
   "cell_type": "code",
   "execution_count": 15,
   "id": "b36dc1d6",
   "metadata": {},
   "outputs": [
    {
     "data": {
      "image/png": "[encoded data removed]",
      "text/plain": [
       "<Figure size 1440x576 with 1 Axes>"
      ]
     },
     "metadata": {},
     "output_type": "display_data"
    }
   ],
   "source": [
    "fig,(ax) = plt.subplots(1,1,figsize=(20,8))\n",
    "\n",
    "ax.set_title(\"Max depth Accuaracy\")\n",
    "_ = plt.plot(treeEvaluate[\"max_depth\"],treeEvaluate[\"acc_train\"],label=\"Train Accuracy\")\n",
    "_ = plt.plot(treeEvaluate[\"max_depth\"],treeEvaluate[\"acc_test\"],label=\"Test Accuracy\")\n",
    "\n",
    "ax.set_xlabel(\"Max Depth\")\n",
    "ax.set_ylabel(\"Accuaracy\")\n",
    "ax.legend()\n",
    "\n",
    "plt.show()"
   ]
  },
  {
   "cell_type": "markdown",
   "id": "c9018467",
   "metadata": {},
   "source": [
    "Starting from a maximum depth of 12. There is no noticeable improvement in the accuracy of the test data compared to the training data."
   ]
  },
  {
   "cell_type": "code",
   "execution_count": 16,
   "id": "aa0cd6a9",
   "metadata": {},
   "outputs": [
    {
     "data": {
      "text/html": [
       "<div><div id=1778eddd-16d3-405f-83d6-f17f07777874 style=\"display:none; background-color:#9D6CFF; color:white; width:200px; height:30px; padding-left:5px; border-radius:4px; flex-direction:row; justify-content:space-around; align-items:center;\" onmouseover=\"this.style.backgroundColor='#BA9BF8'\" onmouseout=\"this.style.backgroundColor='#9D6CFF'\" onclick=\"window.commands?.execute('create-mitosheet-from-dataframe-output');\">See Full Dataframe in Mito</div> <script> if (window.commands?.hasCommand('create-mitosheet-from-dataframe-output')) document.getElementById('1778eddd-16d3-405f-83d6-f17f07777874').style.display = 'flex' </script> <table border=\"1\" class=\"dataframe\">\n",
       "  <thead>\n",
       "    <tr style=\"text-align: right;\">\n",
       "      <th></th>\n",
       "      <th>max_depth</th>\n",
       "      <th>acc_train</th>\n",
       "      <th>acc_test</th>\n",
       "    </tr>\n",
       "  </thead>\n",
       "  <tbody>\n",
       "    <tr>\n",
       "      <th>4</th>\n",
       "      <td>8</td>\n",
       "      <td>0.964220</td>\n",
       "      <td>0.956821</td>\n",
       "    </tr>\n",
       "    <tr>\n",
       "      <th>5</th>\n",
       "      <td>9</td>\n",
       "      <td>0.976866</td>\n",
       "      <td>0.968085</td>\n",
       "    </tr>\n",
       "    <tr>\n",
       "      <th>6</th>\n",
       "      <td>10</td>\n",
       "      <td>0.985811</td>\n",
       "      <td>0.975594</td>\n",
       "    </tr>\n",
       "    <tr>\n",
       "      <th>7</th>\n",
       "      <td>11</td>\n",
       "      <td>0.992597</td>\n",
       "      <td>0.988736</td>\n",
       "    </tr>\n",
       "    <tr>\n",
       "      <th>8</th>\n",
       "      <td>12</td>\n",
       "      <td>0.995373</td>\n",
       "      <td>0.988110</td>\n",
       "    </tr>\n",
       "  </tbody>\n",
       "</table></div>"
      ],
      "text/plain": [
       "   max_depth  acc_train  acc_test\n",
       "4          8   0.964220  0.956821\n",
       "5          9   0.976866  0.968085\n",
       "6         10   0.985811  0.975594\n",
       "7         11   0.992597  0.988736\n",
       "8         12   0.995373  0.988110"
      ]
     },
     "execution_count": 16,
     "metadata": {},
     "output_type": "execute_result"
    }
   ],
   "source": [
    "treeEvaluate.query(\"max_depth>=8 and max_depth<=12\")"
   ]
  },
  {
   "cell_type": "markdown",
   "id": "b919adf0",
   "metadata": {},
   "source": [
    "We select a maximum depth for the tree of **10**. Since apart from this amount, there is no longer a significant improvement.And the model does not run into problems of overfitting the training data."
   ]
  },
  {
   "cell_type": "code",
   "execution_count": 17,
   "id": "bfd577cc",
   "metadata": {},
   "outputs": [],
   "source": [
    "clf_tree=DecisionTreeClassifier(max_depth=10,\n",
    "                                random_state=42)"
   ]
  },
  {
   "cell_type": "markdown",
   "id": "58b96f57",
   "metadata": {},
   "source": [
    "##### **Model Parameters**"
   ]
  },
  {
   "cell_type": "markdown",
   "id": "79bc0ee5",
   "metadata": {},
   "source": [
    "* **max_depth**: Maximum depth of the tree.\n",
    "* **random_state**: Random tree state"
   ]
  },
  {
   "cell_type": "markdown",
   "id": "ffb4ff82",
   "metadata": {},
   "source": [
    "#### **Random Forest**\n",
    "\n",
    "<img src=\"https://st.depositphotos.com/3505477/4895/i/600/depositphotos_48959435-stock-photo-the-illustration-of-cartoon-forest.jpg\">"
   ]
  },
  {
   "cell_type": "markdown",
   "id": "7394921d",
   "metadata": {},
   "source": [
    "It works very similar to the decision tree.\n",
    "\n",
    "What can be better than a tree? The very simple answer. a whole forest\n",
    "\n",
    "Unlike the previous algorithm, here it uses several decision trees. This helps enormously when it comes to avoiding overfitting.\n",
    "\n",
    "This means that the model is not only good with the training data. The main purpose for creating a model is to predict new data. So it makes sense that the model is good with the test data.\n",
    "\n",
    "Its prediction system for the classification case is based on a **voting system**. Of all the estimators of the model. If 70 estimators predict that they belong to class A and 30 predict that they belong to class B. The one with the most votes is taken into account."
   ]
  },
  {
   "cell_type": "code",
   "execution_count": 18,
   "id": "1ef90087",
   "metadata": {},
   "outputs": [],
   "source": [
    "from sklearn.ensemble import RandomForestClassifier"
   ]
  },
  {
   "cell_type": "markdown",
   "id": "dbe0a82e",
   "metadata": {},
   "source": [
    "#### **Ideal Estimator Numbers**\n",
    "\n",
    "We use as a basis a maximum depth for each estimator of 10."
   ]
  },
  {
   "cell_type": "code",
   "execution_count": 19,
   "id": "bad41903",
   "metadata": {},
   "outputs": [],
   "source": [
    "def estimators_ideal():\n",
    "    \n",
    "    n_estimators_list = []\n",
    "    acc_train_list = []\n",
    "    acc_test_list=[]\n",
    "    \n",
    "    estimators=np.arange(100,300,step=2)\n",
    "\n",
    "    \n",
    "    for estimator in estimators:\n",
    "        \n",
    "        tree=RandomForestClassifier(max_depth=10,random_state=42,n_estimators=estimator)\n",
    "        tree.fit(X_train,Y_train)\n",
    "        \n",
    "        y_pred_train=tree.predict(X_train)\n",
    "        y_pred_test=tree.predict(X_test)\n",
    "        \n",
    "        acc_train=accuracy_score(y_true=Y_train,y_pred=y_pred_train)\n",
    "        acc_test=accuracy_score(y_true=Y_test,y_pred=y_pred_test)\n",
    "        \n",
    "        acc_train_list.append(acc_train)\n",
    "        acc_test_list.append(acc_test)\n",
    "        n_estimators_list.append(estimator)\n",
    "        \n",
    "        \n",
    "    return n_estimators_list,acc_train_list,acc_test_list"
   ]
  },
  {
   "cell_type": "code",
   "execution_count": 20,
   "id": "103096c4",
   "metadata": {},
   "outputs": [],
   "source": [
    "n_estimators,acc_train,acc_test=estimators_ideal()"
   ]
  },
  {
   "cell_type": "code",
   "execution_count": 21,
   "id": "ff23401e",
   "metadata": {},
   "outputs": [],
   "source": [
    "rfEvaluate = pd.DataFrame({\"n_estimators\":n_estimators,\"acc_train\":acc_train,\"acc_test\":acc_test})"
   ]
  },
  {
   "cell_type": "code",
   "execution_count": 22,
   "id": "7be2bdea",
   "metadata": {},
   "outputs": [
    {
     "data": {
      "image/png": "[encoded data removed]",
      "text/plain": [
       "<Figure size 1440x576 with 1 Axes>"
      ]
     },
     "metadata": {},
     "output_type": "display_data"
    }
   ],
   "source": [
    "fig,(ax) = plt.subplots(1,1,figsize=(20,8))\n",
    "\n",
    "ax.set_title(\"Number Estimators\")\n",
    "_ = plt.plot(rfEvaluate[\"n_estimators\"],rfEvaluate[\"acc_train\"],label=\"Train Accuracy\")\n",
    "_ = plt.plot(rfEvaluate[\"n_estimators\"],rfEvaluate[\"acc_test\"],label=\"Test Accuracy\")\n",
    "\n",
    "ax.set_xlabel(\"Number Estimators\")\n",
    "ax.set_ylabel(\"Accuaracy\")\n",
    "ax.legend()\n",
    "\n",
    "plt.show()"
   ]
  },
  {
   "cell_type": "markdown",
   "id": "5fe8dc63",
   "metadata": {},
   "source": [
    "There is no significant improvement by increasing the number of estimators. Therefore, **using 100 estimators** as a base is enough to solve the problem."
   ]
  },
  {
   "cell_type": "code",
   "execution_count": 23,
   "id": "842ea84a",
   "metadata": {},
   "outputs": [],
   "source": [
    "clf_rf=RandomForestClassifier(max_depth=10,\n",
    "                              n_estimators=100,\n",
    "                              n_jobs=-2,\n",
    "                              random_state=42)"
   ]
  },
  {
   "cell_type": "markdown",
   "id": "99173df0",
   "metadata": {},
   "source": [
    "#### **Model Parameters**"
   ]
  },
  {
   "cell_type": "markdown",
   "id": "47e54460",
   "metadata": {},
   "source": [
    "Share several in common parameters. Except for a few:\n",
    "\n",
    "* **n_estimators**: Number of decision trees.\n",
    "* **n_jobs**: Number of working cores of the cpu."
   ]
  },
  {
   "cell_type": "markdown",
   "id": "b301b237",
   "metadata": {},
   "source": [
    "#### **Support Vector Machine**\n",
    "\n",
    "<img src=\"https://miro.medium.com/max/1400/1*qZFPN60NvwbFE_tRg2YPoQ.png\">"
   ]
  },
  {
   "cell_type": "markdown",
   "id": "93badc24",
   "metadata": {},
   "source": [
    "It consists of finding the best hyperplane that fits the data set. According to the **kernel** provided by the user. It works quite well for relatively small data sets.\n",
    "\n",
    "It has the disadvantage of requiring a scalar setting for variables. In order to make them comparable to each other. Since these algorithms are very sensitive."
   ]
  },
  {
   "cell_type": "markdown",
   "id": "686ffaf4",
   "metadata": {},
   "source": [
    "##### **StandarScaler**"
   ]
  },
  {
   "cell_type": "markdown",
   "id": "7f5d1d79",
   "metadata": {},
   "source": [
    "Mathematically, it consists of subtracting the average of each of the variables. And finally owe it to the standard deviation.\n",
    "\n",
    "With this process we achieve that the variables are comparable to each other."
   ]
  },
  {
   "cell_type": "code",
   "execution_count": 24,
   "id": "08c41dde",
   "metadata": {},
   "outputs": [],
   "source": [
    "from sklearn.preprocessing import StandardScaler"
   ]
  },
  {
   "cell_type": "code",
   "execution_count": 25,
   "id": "e2668268",
   "metadata": {},
   "outputs": [],
   "source": [
    "def scaler_data():\n",
    "    \n",
    "    scaler=StandardScaler()\n",
    "    scaler.fit(X_train)\n",
    "    \n",
    "    X_train_sc=scaler.transform(X_train)\n",
    "    X_test_sc=scaler.transform(X_test)\n",
    "    \n",
    "    return X_train_sc,X_test_sc"
   ]
  },
  {
   "cell_type": "code",
   "execution_count": 26,
   "id": "897a22b0",
   "metadata": {},
   "outputs": [],
   "source": [
    "X_train_sc,X_test_sc=scaler_data()"
   ]
  },
  {
   "cell_type": "code",
   "execution_count": 27,
   "id": "00f7ef85",
   "metadata": {},
   "outputs": [],
   "source": [
    "from sklearn.svm import SVC"
   ]
  },
  {
   "cell_type": "code",
   "execution_count": 28,
   "id": "96f2169a",
   "metadata": {},
   "outputs": [],
   "source": [
    "svc_linear=SVC(kernel=\"linear\")\n",
    "svc_poly=SVC(kernel=\"poly\",degree=3)"
   ]
  },
  {
   "cell_type": "markdown",
   "id": "6aefb498",
   "metadata": {},
   "source": [
    "#### **Model Parameters**\n",
    "\n",
    "* **kernel**: SVC core.\n",
    "* **degree**: Degree of the polynomial."
   ]
  },
  {
   "cell_type": "markdown",
   "id": "9d1868b9",
   "metadata": {},
   "source": [
    "### **Selection of Model Ideal**"
   ]
  },
  {
   "cell_type": "markdown",
   "id": "451f9b43",
   "metadata": {},
   "source": [
    "#### **Criteria**"
   ]
  },
  {
   "cell_type": "markdown",
   "id": "a674a0e3",
   "metadata": {},
   "source": [
    "\n",
    "* The model must have **balanced accuracy**. For each case.\n",
    "* The model must **not only be adapted** to the set of **training** deals.\n",
    "* The algorithm must have **good performance**. For data **you've never seen**.\n",
    "* Must have a **high percentage** of **generalization**."
   ]
  },
  {
   "cell_type": "code",
   "execution_count": 29,
   "id": "44b95029",
   "metadata": {},
   "outputs": [],
   "source": [
    "def train_model(model_name):\n",
    "    \n",
    "    if model_name == \"tree\":\n",
    "        return clf_tree.fit(X_train,Y_train)\n",
    "    \n",
    "    if model_name == \"rf\":\n",
    "        return clf_rf.fit(X_train,Y_train)\n",
    "    \n",
    "    if model_name == \"svc_linear\":\n",
    "        return svc_linear.fit(X_train_sc,Y_train)\n",
    "    \n",
    "    if model_name == \"svc_poly\":\n",
    "        return svc_poly.fit(X_train_sc,Y_train)"
   ]
  },
  {
   "cell_type": "code",
   "execution_count": 30,
   "id": "861adb48",
   "metadata": {},
   "outputs": [],
   "source": [
    "for name in [\"tree\",\"rf\",\"svc_linear\",\"svc_poly\"]:\n",
    "    \n",
    "    train_model(model_name=name)"
   ]
  },
  {
   "cell_type": "markdown",
   "id": "b64842a3",
   "metadata": {},
   "source": [
    "### **Model evaluation**"
   ]
  },
  {
   "cell_type": "markdown",
   "id": "f9ab6c7b",
   "metadata": {},
   "source": [
    "#### **Clasification Report**\n",
    "\n",
    "Build a text report showing the main classification metrics. According to the metrics of each class."
   ]
  },
  {
   "cell_type": "markdown",
   "id": "b9f85595",
   "metadata": {},
   "source": [
    "#### **Confusion Matrix**\n",
    "\n",
    "<img src = \"https://miro.medium.com/max/667/1*3yGLac6F4mTENnj5dBNvNQ.jpeg\">"
   ]
  },
  {
   "cell_type": "markdown",
   "id": "f2047558",
   "metadata": {},
   "source": [
    "It provides us in a graphical way. The number of hits and misses for each class."
   ]
  },
  {
   "cell_type": "markdown",
   "id": "f0f0bbe2",
   "metadata": {},
   "source": [
    "### **Cross Validation**\n",
    "\n",
    "<img src = \"https://www.researchgate.net/publication/326465007/figure/fig1/AS:649909518757888@1531961912055/Ten-fold-cross-validation-diagram-The-dataset-was-divided-into-ten-parts-and-nine-of.png\">"
   ]
  },
  {
   "cell_type": "markdown",
   "id": "321acde7",
   "metadata": {},
   "source": [
    "It gives us the average generalization of the model."
   ]
  },
  {
   "cell_type": "code",
   "execution_count": 31,
   "id": "83913b87",
   "metadata": {},
   "outputs": [],
   "source": [
    "from sklearn.metrics import classification_report\n",
    "from sklearn.metrics import confusion_matrix\n",
    "from sklearn.model_selection import cross_val_score"
   ]
  },
  {
   "cell_type": "code",
   "execution_count": 32,
   "id": "99a3154b",
   "metadata": {},
   "outputs": [],
   "source": [
    "class Evaluete():\n",
    "    \n",
    "    def __init__(self,model,data):\n",
    "        \n",
    "        self.data=data\n",
    "        self.model=model\n",
    "        self.y_pred=self.model.predict(self.data)\n",
    "        \n",
    "    def Report(self):\n",
    "        \n",
    "        print(classification_report(y_true=Y_test,y_pred=self.y_pred,target_names=[\"unacc\",\"acc\",\"good\",\"vgood\"]))\n",
    "        \n",
    "    def ConfusionMatixPlot(self):\n",
    "        \n",
    "        cm_labels = [\"unacc\",\"acc\",\"good\",\"vgood\"]\n",
    "        cm_array = confusion_matrix(y_true=Y_test,y_pred=self.y_pred)\n",
    "        cm_array_df = pd.DataFrame(cm_array, index=cm_labels, columns=cm_labels)\n",
    "        \n",
    "        \n",
    "        fig,(ax) = plt.subplots(1,1,figsize=(10,8))\n",
    "        \n",
    "        ax.set_title(\"Confusion Matrix\")\n",
    "        _ = sns.heatmap(cm_array_df,annot=True,fmt=\"g\",cmap=\"Greens\")\n",
    "\n",
    "    def CrossValidation(self):\n",
    "        \n",
    "        return cross_val_score(self.model,X_test,Y_test,cv=10).mean()"
   ]
  },
  {
   "cell_type": "code",
   "execution_count": 33,
   "id": "6bf2490c",
   "metadata": {},
   "outputs": [],
   "source": [
    "tree=Evaluete(model=clf_tree,data=X_test)\n",
    "rf=Evaluete(model=clf_rf,data=X_test)\n",
    "\n",
    "svcLinear=Evaluete(model=svc_linear,data=X_test_sc)\n",
    "svcPoly=Evaluete(model=svc_poly,data=X_test_sc)"
   ]
  },
  {
   "cell_type": "markdown",
   "id": "5b450707",
   "metadata": {},
   "source": [
    "#### **Decesion Tree**"
   ]
  },
  {
   "cell_type": "code",
   "execution_count": 34,
   "id": "448e01e7",
   "metadata": {},
   "outputs": [
    {
     "name": "stdout",
     "output_type": "stream",
     "text": [
      "              precision    recall  f1-score   support\n",
      "\n",
      "       unacc       0.98      0.99      0.98       425\n",
      "         acc       0.97      0.97      0.97       395\n",
      "        good       0.97      0.99      0.98       381\n",
      "       vgood       0.98      0.96      0.97       397\n",
      "\n",
      "    accuracy                           0.98      1598\n",
      "   macro avg       0.98      0.98      0.98      1598\n",
      "weighted avg       0.98      0.98      0.98      1598\n",
      "\n"
     ]
    }
   ],
   "source": [
    "tree.Report()"
   ]
  },
  {
   "cell_type": "markdown",
   "id": "767ea31c",
   "metadata": {},
   "source": [
    "It shows very well balanced metrics."
   ]
  },
  {
   "cell_type": "code",
   "execution_count": 35,
   "id": "d23d232f",
   "metadata": {
    "scrolled": false
   },
   "outputs": [
    {
     "data": {
      "image/png": "[encoded data removed]",
      "text/plain": [
       "<Figure size 720x576 with 2 Axes>"
      ]
     },
     "metadata": {},
     "output_type": "display_data"
    }
   ],
   "source": [
    "tree.ConfusionMatixPlot()"
   ]
  },
  {
   "cell_type": "code",
   "execution_count": 36,
   "id": "49317edb",
   "metadata": {},
   "outputs": [
    {
     "data": {
      "text/plain": [
       "0.9749685534591194"
      ]
     },
     "execution_count": 36,
     "metadata": {},
     "output_type": "execute_result"
    }
   ],
   "source": [
    "tree.CrossValidation()"
   ]
  },
  {
   "cell_type": "markdown",
   "id": "0913e9eb",
   "metadata": {},
   "source": [
    "It has a fairly high generalization rate."
   ]
  },
  {
   "cell_type": "markdown",
   "id": "6feb4c86",
   "metadata": {},
   "source": [
    "#### **Random Forest**"
   ]
  },
  {
   "cell_type": "code",
   "execution_count": 37,
   "id": "c38db6db",
   "metadata": {
    "scrolled": true
   },
   "outputs": [
    {
     "name": "stdout",
     "output_type": "stream",
     "text": [
      "              precision    recall  f1-score   support\n",
      "\n",
      "       unacc       1.00      0.97      0.99       425\n",
      "         acc       0.96      0.96      0.96       395\n",
      "        good       0.99      0.99      0.99       381\n",
      "       vgood       0.97      0.99      0.98       397\n",
      "\n",
      "    accuracy                           0.98      1598\n",
      "   macro avg       0.98      0.98      0.98      1598\n",
      "weighted avg       0.98      0.98      0.98      1598\n",
      "\n"
     ]
    }
   ],
   "source": [
    "rf.Report()"
   ]
  },
  {
   "cell_type": "markdown",
   "id": "f273d7bb",
   "metadata": {},
   "source": [
    "Random Forest apparently have better results. Because it uses more estimators."
   ]
  },
  {
   "cell_type": "code",
   "execution_count": 38,
   "id": "3a80c7d1",
   "metadata": {},
   "outputs": [
    {
     "data": {
      "image/png": "[encoded data removed]",
      "text/plain": [
       "<Figure size 720x576 with 2 Axes>"
      ]
     },
     "metadata": {},
     "output_type": "display_data"
    }
   ],
   "source": [
    "rf.ConfusionMatixPlot()"
   ]
  },
  {
   "cell_type": "code",
   "execution_count": 39,
   "id": "aa67224b",
   "metadata": {},
   "outputs": [
    {
     "data": {
      "text/plain": [
       "0.9755935534591196"
      ]
     },
     "execution_count": 39,
     "metadata": {},
     "output_type": "execute_result"
    }
   ],
   "source": [
    "rf.CrossValidation()"
   ]
  },
  {
   "cell_type": "markdown",
   "id": "ed055725",
   "metadata": {},
   "source": [
    "It has an average of generalization similar to the decision tree."
   ]
  },
  {
   "cell_type": "markdown",
   "id": "a295ed9a",
   "metadata": {},
   "source": [
    "#### **SVM Kernel Linear**"
   ]
  },
  {
   "cell_type": "code",
   "execution_count": 40,
   "id": "6e3040de",
   "metadata": {
    "scrolled": true
   },
   "outputs": [
    {
     "name": "stdout",
     "output_type": "stream",
     "text": [
      "              precision    recall  f1-score   support\n",
      "\n",
      "       unacc       0.87      0.85      0.86       425\n",
      "         acc       0.84      0.75      0.80       395\n",
      "        good       0.98      0.99      0.99       381\n",
      "       vgood       0.90      1.00      0.95       397\n",
      "\n",
      "    accuracy                           0.90      1598\n",
      "   macro avg       0.90      0.90      0.90      1598\n",
      "weighted avg       0.90      0.90      0.90      1598\n",
      "\n"
     ]
    }
   ],
   "source": [
    "svcLinear.Report()"
   ]
  },
  {
   "cell_type": "markdown",
   "id": "9480f8dd",
   "metadata": {},
   "source": [
    "It offers lower metrics than the other models. Since the kernel configures it to separate the data in a **linear** way."
   ]
  },
  {
   "cell_type": "code",
   "execution_count": 41,
   "id": "72c09a5c",
   "metadata": {},
   "outputs": [
    {
     "data": {
      "image/png": "[encoded data removed]",
      "text/plain": [
       "<Figure size 720x576 with 2 Axes>"
      ]
     },
     "metadata": {},
     "output_type": "display_data"
    }
   ],
   "source": [
    "svcLinear.ConfusionMatixPlot()"
   ]
  },
  {
   "cell_type": "code",
   "execution_count": 42,
   "id": "6617d148",
   "metadata": {},
   "outputs": [
    {
     "data": {
      "text/plain": [
       "0.8986360062893082"
      ]
     },
     "execution_count": 42,
     "metadata": {},
     "output_type": "execute_result"
    }
   ],
   "source": [
    "svcLinear.CrossValidation()"
   ]
  },
  {
   "cell_type": "markdown",
   "id": "7d0e8458",
   "metadata": {},
   "source": [
    "He has a good generation average. But lower than its competitors."
   ]
  },
  {
   "cell_type": "markdown",
   "id": "f67b89ae",
   "metadata": {},
   "source": [
    "#### **SVM Kernel Polynomial**"
   ]
  },
  {
   "cell_type": "code",
   "execution_count": 43,
   "id": "d0a11395",
   "metadata": {},
   "outputs": [
    {
     "name": "stdout",
     "output_type": "stream",
     "text": [
      "              precision    recall  f1-score   support\n",
      "\n",
      "       unacc       1.00      0.96      0.98       425\n",
      "         acc       0.94      0.94      0.94       395\n",
      "        good       0.99      0.99      0.99       381\n",
      "       vgood       0.95      0.98      0.97       397\n",
      "\n",
      "    accuracy                           0.97      1598\n",
      "   macro avg       0.97      0.97      0.97      1598\n",
      "weighted avg       0.97      0.97      0.97      1598\n",
      "\n"
     ]
    }
   ],
   "source": [
    "svcPoly.Report()"
   ]
  },
  {
   "cell_type": "markdown",
   "id": "5eb520a0",
   "metadata": {},
   "source": [
    "It offers good metrics. Since I changed the kernel. To a **polynomial** type of **degree 3**."
   ]
  },
  {
   "cell_type": "code",
   "execution_count": 44,
   "id": "856b4e47",
   "metadata": {},
   "outputs": [
    {
     "data": {
      "image/png": "[encoded data removed]",
      "text/plain": [
       "<Figure size 720x576 with 2 Axes>"
      ]
     },
     "metadata": {},
     "output_type": "display_data"
    }
   ],
   "source": [
    "svcPoly.ConfusionMatixPlot()"
   ]
  },
  {
   "cell_type": "code",
   "execution_count": 45,
   "id": "f0ab5fd1",
   "metadata": {},
   "outputs": [
    {
     "data": {
      "text/plain": [
       "0.9518278301886793"
      ]
     },
     "execution_count": 45,
     "metadata": {},
     "output_type": "execute_result"
    }
   ],
   "source": [
    "svcPoly.CrossValidation()"
   ]
  },
  {
   "cell_type": "markdown",
   "id": "39648a98",
   "metadata": {},
   "source": [
    "They have a higher generalization rate than an SVC with a linear kernel. But inferior to Random Forest and Decession Tree."
   ]
  },
  {
   "cell_type": "code",
   "execution_count": 46,
   "id": "012de4f0",
   "metadata": {},
   "outputs": [],
   "source": [
    "scoreTree=clf_tree.score(X_test,Y_test)\n",
    "scoreRF= clf_rf.score(X_test,Y_test)\n",
    "\n",
    "scoreSVCLinear=svc_linear.score(X_test_sc,Y_test)\n",
    "scoreSVCPoly=svc_poly.score(X_test_sc,Y_test)"
   ]
  },
  {
   "cell_type": "code",
   "execution_count": 47,
   "id": "1affa77b",
   "metadata": {},
   "outputs": [],
   "source": [
    "modelName= [\"Decesion Tree\",\"Random Forest\",\"SVC Linear\",\"SVC Poly\"]\n",
    "modelScore= [scoreTree,scoreRF,scoreSVCLinear,scoreSVCPoly]"
   ]
  },
  {
   "cell_type": "code",
   "execution_count": 48,
   "id": "b5515bd6",
   "metadata": {},
   "outputs": [],
   "source": [
    "dfEvaluate=pd.DataFrame({\"Model Name\":modelName,\"Model Score\":modelScore})"
   ]
  },
  {
   "cell_type": "code",
   "execution_count": 49,
   "id": "e2d705e3",
   "metadata": {},
   "outputs": [
    {
     "data": {
      "text/html": [
       "<div><div id=20f56a11-4e59-44eb-8150-3ad897d05504 style=\"display:none; background-color:#9D6CFF; color:white; width:200px; height:30px; padding-left:5px; border-radius:4px; flex-direction:row; justify-content:space-around; align-items:center;\" onmouseover=\"this.style.backgroundColor='#BA9BF8'\" onmouseout=\"this.style.backgroundColor='#9D6CFF'\" onclick=\"window.commands?.execute('create-mitosheet-from-dataframe-output');\">See Full Dataframe in Mito</div> <script> if (window.commands?.hasCommand('create-mitosheet-from-dataframe-output')) document.getElementById('20f56a11-4e59-44eb-8150-3ad897d05504').style.display = 'flex' </script> <table border=\"1\" class=\"dataframe\">\n",
       "  <thead>\n",
       "    <tr style=\"text-align: right;\">\n",
       "      <th></th>\n",
       "      <th>Model Name</th>\n",
       "      <th>Model Score</th>\n",
       "    </tr>\n",
       "  </thead>\n",
       "  <tbody>\n",
       "    <tr>\n",
       "      <th>0</th>\n",
       "      <td>Decesion Tree</td>\n",
       "      <td>0.975594</td>\n",
       "    </tr>\n",
       "    <tr>\n",
       "      <th>1</th>\n",
       "      <td>Random Forest</td>\n",
       "      <td>0.981227</td>\n",
       "    </tr>\n",
       "    <tr>\n",
       "      <th>2</th>\n",
       "      <td>SVC Linear</td>\n",
       "      <td>0.897372</td>\n",
       "    </tr>\n",
       "    <tr>\n",
       "      <th>3</th>\n",
       "      <td>SVC Poly</td>\n",
       "      <td>0.968711</td>\n",
       "    </tr>\n",
       "  </tbody>\n",
       "</table></div>"
      ],
      "text/plain": [
       "      Model Name  Model Score\n",
       "0  Decesion Tree     0.975594\n",
       "1  Random Forest     0.981227\n",
       "2     SVC Linear     0.897372\n",
       "3       SVC Poly     0.968711"
      ]
     },
     "execution_count": 49,
     "metadata": {},
     "output_type": "execute_result"
    }
   ],
   "source": [
    "dfEvaluate"
   ]
  },
  {
   "cell_type": "markdown",
   "id": "dd41d80e",
   "metadata": {},
   "source": [
    "### **Selection of the Best Model**"
   ]
  },
  {
   "cell_type": "code",
   "execution_count": 50,
   "id": "cd49a26b",
   "metadata": {},
   "outputs": [
    {
     "data": {
      "image/png": "[encoded data removed]",
      "text/plain": [
       "<Figure size 1440x576 with 1 Axes>"
      ]
     },
     "metadata": {},
     "output_type": "display_data"
    }
   ],
   "source": [
    "fig,(ax) = plt.subplots(1,1,figsize=(20,8))\n",
    "\n",
    "ax.set_title(\"Evaluation\")\n",
    "_ = sns.barplot(data=dfEvaluate,x=\"Model Name\",y=\"Model Score\",palette=\"Set2\",ax=ax)\n",
    "plt.show()"
   ]
  },
  {
   "cell_type": "markdown",
   "id": "95d1084a",
   "metadata": {},
   "source": [
    "The Random Forest has better performance than the other algorithms. But sometimes **performance isn't everything**..."
   ]
  },
  {
   "cell_type": "markdown",
   "id": "5c98ed6e",
   "metadata": {},
   "source": [
    "#### **Conclusion**\n",
    "\n",
    "Although the Random Forest gives excellent results, it is computationally more expensive than the decision tree. This one offers almost the same performance. It also has the advantage that it is easier to interpret. This facilitates the final explanation to the client.\n",
    "\n",
    "SVCs have the disadvantage of requiring data preprocessing. Which gives strange points to the decision tree."
   ]
  }
 ],
 "metadata": {
  "kernelspec": {
   "display_name": "Python 3 (ipykernel)",
   "language": "python",
   "name": "python3"
  },
  "language_info": {
   "codemirror_mode": {
    "name": "ipython",
    "version": 3
   },
   "file_extension": ".py",
   "mimetype": "text/x-python",
   "name": "python",
   "nbconvert_exporter": "python",
   "pygments_lexer": "ipython3",
   "version": "3.9.7"
  }
 },
 "nbformat": 4,
 "nbformat_minor": 5
}
